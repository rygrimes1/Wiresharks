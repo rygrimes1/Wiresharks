{
 "cells": [
  {
   "cell_type": "code",
   "execution_count": 1,
   "id": "4bf09f1f",
   "metadata": {},
   "outputs": [],
   "source": [
    "from collections import Counter\n",
    "from collections import defaultdict\n",
    "import json\n",
    "import magic\n",
    "import matplotlib\n",
    "import matplotlib.pyplot as plt\n",
    "import os\n",
    "import pandas as pd\n",
    "from pathlib import Path\n",
    "import pickle\n",
    "import subprocess\n",
    "import tarfile\n",
    "import timeit\n",
    "import time\n",
    "from tqdm import tqdm\n",
    "from typing import Dict, List\n",
    "from yara_scanner import YaraScanner\n",
    "\n",
    "%load_ext memory_profiler"
   ]
  },
  {
   "cell_type": "code",
   "execution_count": 2,
   "id": "944c1e92",
   "metadata": {},
   "outputs": [
    {
     "data": {
      "text/plain": [
       "True"
      ]
     },
     "execution_count": 2,
     "metadata": {},
     "output_type": "execute_result"
    }
   ],
   "source": [
    "# Initialize and load pypi malware checks rules\n",
    "pypi_malware_checks_rule_path = os.path.abspath(\"../scanners/pypi-malware-checks/setup_py_rules.yara\")\n",
    "scanner = YaraScanner()\n",
    "scanner.track_yara_file(pypi_malware_checks_rule_path)\n",
    "scanner.load_rules()"
   ]
  },
  {
   "cell_type": "code",
   "execution_count": 3,
   "id": "8ce0b876",
   "metadata": {},
   "outputs": [],
   "source": [
    "# This function is used to calculate runtimes of PyPI malware checks\n",
    "def calculate_runtimes(package_releases_path):\n",
    "    package_dirs = [f.path for f in os.scandir(package_releases_path) if f.is_dir()]\n",
    "    runtimes = {}\n",
    "    for package_dir in tqdm(package_dirs):\n",
    "        package_name = package_dir.split(\"/\")[-1]\n",
    "        start = time.time()\n",
    "        subprocess.call(\n",
    "            [\"scan\", \"-r\", package_dir, \"-y\", \"../scanners/pypi-malware-checks/setup_py_rules.yara\"],\n",
    "            stdout=subprocess.DEVNULL,\n",
    "            stderr=subprocess.STDOUT)\n",
    "        runtimes[package_name] = time.time() - start\n",
    "    return runtimes"
   ]
  },
  {
   "cell_type": "code",
   "execution_count": 4,
   "id": "3986e0b8",
   "metadata": {},
   "outputs": [],
   "source": [
    "# Scanning packages using PyPI\n",
    "def scanning_packages(package_releases_path) -> Dict:\n",
    "    results = defaultdict(list)\n",
    "    for subdir, dirs, files in tqdm(os.walk(package_releases_path)):\n",
    "        for file in files:\n",
    "            # Here I made an assumpution of the file path; e.g., I stored the bad-snakes repo under my home directory \n",
    "            try:\n",
    "                package_name = f\"{subdir.split('/')[6]}\"\n",
    "            except IndexError:\n",
    "                import pdb; pdb.set_trace()\n",
    "            file_path = subdir + os.sep + file\n",
    "            # Only scan Python files to reduce noises, there are packages that don't have Python files at all\n",
    "            if Path(file_path).suffix == '.py':\n",
    "                try:\n",
    "                    scanner.scan(file_path)\n",
    "                except Exception as e:\n",
    "                    # there are cases where .py files containing binary data that yara-scanner cannot exclude\n",
    "                    print(package_name, file_path, e)\n",
    "                else:\n",
    "                    scan_results = scanner.scan_results\n",
    "                    if scan_results:\n",
    "                        for i in scan_results:\n",
    "                            results[package_name].append(i)\n",
    "                    else:\n",
    "                        # if there are no alerts \n",
    "                        results[package_name].append({\"target\": file, 'rule': \"\"})\n",
    "    return results      "
   ]
  },
  {
   "cell_type": "code",
   "execution_count": null,
   "id": "fc5a2d38",
   "metadata": {},
   "outputs": [],
   "source": [
    "# parse the results to collect number of rules of the packages\n",
    "def parse_analysis_results(packages_scanning_results: Dict[str, str]) -> List[str]:\n",
    "    for package, files in packages_scanning_results.items():\n",
    "        for file_ in files: \n",
    "            if file_['rule']:\n",
    "                yield (package, file_[\"target\"], file_['rule'], 1)\n",
    "            else:\n",
    "                yield (package, file_[\"target\"], \"\", 0)"
   ]
  },
  {
   "cell_type": "code",
   "execution_count": null,
   "id": "72e10fa4",
   "metadata": {},
   "outputs": [],
   "source": [
    "# Collecting subpatterns of the packages\n",
    "def collect_subpatterns(packages_scanning_results: Dict[str, str]) -> List[str]:\n",
    "    for package, files in packages_scanning_results.items():\n",
    "        for file_ in files: \n",
    "            if 'strings' in file_:\n",
    "                for line in file_['strings']:\n",
    "                    #line[0] -> line number, line[1] -> subpattern, line[2] -> line content \n",
    "                    yield (package, file_[\"target\"], file_['rule'], line[1])              "
   ]
  },
  {
   "cell_type": "code",
   "execution_count": null,
   "id": "8f35ebc6",
   "metadata": {},
   "outputs": [],
   "source": []
  },
  {
   "cell_type": "markdown",
   "id": "81788647",
   "metadata": {},
   "source": [
    "## Analyzing Malicious packages"
   ]
  },
  {
   "cell_type": "code",
   "execution_count": null,
   "id": "aa26babb",
   "metadata": {},
   "outputs": [],
   "source": [
    "# Path to the malicious packages dataset\n",
    "malicious_packages_path = os.path.abspath(\"../dataset/malicious-packages/\")"
   ]
  },
  {
   "cell_type": "code",
   "execution_count": null,
   "id": "f1165ca7",
   "metadata": {},
   "outputs": [],
   "source": [
    "malicious_running_times = computing_runtimes(malicious_packages_path)"
   ]
  },
  {
   "cell_type": "code",
   "execution_count": null,
   "id": "52bb83fb",
   "metadata": {},
   "outputs": [],
   "source": [
    "malicious_packages_running_times_df = pd.DataFrame(list(malicious_running_times.items()), columns=['package', 'running_time'])\n",
    "# Savign the runtime info\n",
    "malicious_packages_running_times_df.to_csv(\"../results/running_times/pypi-malware-checks/malicious-packages.csv\")\n",
    "malicious_packages_running_times_df[\"running_time\"].describe()"
   ]
  },
  {
   "cell_type": "code",
   "execution_count": null,
   "id": "77585dfa",
   "metadata": {},
   "outputs": [],
   "source": []
  },
  {
   "cell_type": "code",
   "execution_count": null,
   "id": "b886fd77",
   "metadata": {},
   "outputs": [],
   "source": [
    "# Uncomment to re-run the scanning, this would take a while\n",
    "malicious_packages_scanning_results = scanning_packages(malicious_packages_path)"
   ]
  },
  {
   "cell_type": "code",
   "execution_count": null,
   "id": "b5fe03d3",
   "metadata": {},
   "outputs": [],
   "source": [
    "# Loading the existing result in case we do not want to rescan the packages\n",
    "with open(os.path.abspath(os.path.join(\"..\", \"results\", \"pypi-malware-checks\", \"malicious_packages.pkl\")), 'rb') as fp:\n",
    "    malicious_packages_scanning_results = pickle.load(fp)"
   ]
  },
  {
   "cell_type": "markdown",
   "id": "5ff25405",
   "metadata": {},
   "source": [
    "### Triggered rules and subpatterns in all Python files in malicious packages"
   ]
  },
  {
   "cell_type": "code",
   "execution_count": null,
   "id": "601e5e18",
   "metadata": {},
   "outputs": [],
   "source": [
    "# Collect the alerts and transform them into datafarame\n",
    "malicious_packages_rules = parse_analysis_results(malicious_packages_scanning_results)\n",
    "malicious_packages_rules_df = pd.DataFrame(malicious_packages_rules, columns=[\"package\", \"target\", \"rule\", \"has_rule\"])"
   ]
  },
  {
   "cell_type": "code",
   "execution_count": null,
   "id": "e2fa2632",
   "metadata": {},
   "outputs": [],
   "source": [
    "# Number of rules per package\n",
    "malicious_packages_rules_groupby = malicious_packages_rules_df.groupby('package')['has_rule']\n",
    "print(f\"Total number of rules: {malicious_packages_rules_groupby.sum().sum()}\")\n",
    "malicious_packages_rules_groupby.sum().describe()"
   ]
  },
  {
   "cell_type": "code",
   "execution_count": null,
   "id": "58bfcadf",
   "metadata": {},
   "outputs": [],
   "source": [
    "# packages that triggered at least one alert\n",
    "malicious_packages_has_rules_df = malicious_packages_rules_df[malicious_packages_rules_df['has_rule'] != 0]"
   ]
  },
  {
   "cell_type": "code",
   "execution_count": null,
   "id": "38922746",
   "metadata": {},
   "outputs": [],
   "source": [
    "# Number of rules per package\n",
    "malicious_packages_has_rules_groupby = malicious_packages_has_rules_df.groupby('package')['has_rule']\n",
    "print(f\"Total number of rules: {malicious_packages_has_rules_groupby.sum().sum()}\")\n",
    "malicious_packages_has_rules_groupby.sum().describe()"
   ]
  },
  {
   "cell_type": "code",
   "execution_count": null,
   "id": "e1d7a92b",
   "metadata": {},
   "outputs": [],
   "source": [
    "# Collect the alerts and transform them into datafarame\n",
    "malicious_packages_subpatterns = collect_subpatterns(malicious_packages_scanning_results)\n",
    "malicious_packages_subpatterns_df = pd.DataFrame(malicious_packages_subpatterns, columns=[\"package\", \"target\", \"rule\", \"subpattern\"])"
   ]
  },
  {
   "cell_type": "code",
   "execution_count": null,
   "id": "84e4c546",
   "metadata": {},
   "outputs": [],
   "source": [
    "# Number of subpatterns per package\n",
    "malicious_packages_subpatterns_groupby = malicious_packages_subpatterns_df.groupby('package')['subpattern']\n",
    "print(f\"Total number of subpatterns: {malicious_packages_subpatterns_groupby.count().sum()}\")\n",
    "malicious_packages_subpatterns_groupby.count().describe()"
   ]
  },
  {
   "cell_type": "markdown",
   "id": "7b946fe5",
   "metadata": {},
   "source": [
    "### Triggered rules and subpatterns in all setup.py files in malicious packages"
   ]
  },
  {
   "cell_type": "code",
   "execution_count": null,
   "id": "a6d55e1e",
   "metadata": {},
   "outputs": [],
   "source": [
    "# Selecting only setup.py files\n",
    "malicious_packages_rules_setup_df = malicious_packages_rules_df[malicious_packages_rules_df['target'].str.contains('setup.py')]"
   ]
  },
  {
   "cell_type": "code",
   "execution_count": null,
   "id": "89198cb9",
   "metadata": {},
   "outputs": [],
   "source": [
    "# Number of rules per package\n",
    "malicious_packages_rules_setup_groupby = malicious_packages_rules_setup_df.groupby('package')['has_rule']\n",
    "print(f\"Total number of rules: {malicious_packages_rules_setup_groupby.sum().sum()}\")\n",
    "malicious_packages_rules_setup_groupby.sum().describe()"
   ]
  },
  {
   "cell_type": "code",
   "execution_count": null,
   "id": "d6292629",
   "metadata": {},
   "outputs": [],
   "source": [
    "# packages whose setup.py and has at least one alert\n",
    "malicious_packages_setup_has_rules_df = malicious_packages_rules_setup_df[malicious_packages_rules_setup_df['has_rule'] != 0]"
   ]
  },
  {
   "cell_type": "code",
   "execution_count": null,
   "id": "887c4762",
   "metadata": {},
   "outputs": [],
   "source": [
    "# Number of rules per package\n",
    "malicious_packages_setup_has_rules_groupby = malicious_packages_setup_has_rules_df.groupby('package')['has_rule']\n",
    "print(f\"Total number of rules: {malicious_packages_setup_has_rules_groupby.sum().sum()}\")\n",
    "malicious_packages_setup_has_rules_groupby.sum().describe()"
   ]
  },
  {
   "cell_type": "code",
   "execution_count": null,
   "id": "5ca58298",
   "metadata": {},
   "outputs": [],
   "source": [
    "malicious_packages_subpatterns_setup_df = malicious_packages_subpatterns_df[malicious_packages_subpatterns_df['target'].str.contains('setup.py')]"
   ]
  },
  {
   "cell_type": "markdown",
   "id": "d276b3bd",
   "metadata": {},
   "source": [
    "## Analyzing Popular packages"
   ]
  },
  {
   "cell_type": "code",
   "execution_count": null,
   "id": "81dee32c",
   "metadata": {},
   "outputs": [],
   "source": [
    "# Path to the popular packages dataset\n",
    "popular_packages_path = os.path.abspath(\"../dataset/popular-packages\")"
   ]
  },
  {
   "cell_type": "code",
   "execution_count": null,
   "id": "a2602cb6",
   "metadata": {},
   "outputs": [],
   "source": [
    "popular_running_times = computing_runtimes(popular_packages_path)"
   ]
  },
  {
   "cell_type": "code",
   "execution_count": null,
   "id": "41cee9ec",
   "metadata": {},
   "outputs": [],
   "source": [
    "popular_packages_running_times_df = pd.DataFrame(list(popular_running_times.items()), columns=['package', 'running_time'])\n",
    "popular_packages_running_times_df[\"running_time\"].describe()"
   ]
  },
  {
   "cell_type": "code",
   "execution_count": null,
   "id": "5bbcbb65",
   "metadata": {},
   "outputs": [],
   "source": [
    "popular_packages_running_times_df.to_csv(\"../results/running_times/pypi-malware-checks/popular-packages.csv\")"
   ]
  },
  {
   "cell_type": "code",
   "execution_count": null,
   "id": "cfa9288c",
   "metadata": {},
   "outputs": [],
   "source": [
    "# Loading the existing result in case we do not want to rescan the packages\n",
    "with open(os.path.abspath(os.path.join(\"..\", \"results\", \"pypi-malware-checks\", \"popular_packages.pkl\")), 'rb') as fp:\n",
    "    popular_packages_scanning_results = pickle.load(fp)"
   ]
  },
  {
   "cell_type": "markdown",
   "id": "896cfc24",
   "metadata": {},
   "source": [
    "### Triggered rules and subpatterns in all Python files in popular packages"
   ]
  },
  {
   "cell_type": "code",
   "execution_count": null,
   "id": "90c190d4",
   "metadata": {},
   "outputs": [],
   "source": [
    "# Collect the alerts and transform them into datafarame\n",
    "popular_packages_rules = parse_analysis_results(popular_packages_scanning_results)\n",
    "popular_packages_rules_df = pd.DataFrame(popular_packages_rules, columns=[\"package\", \"target\", \"rule\", \"has_rule\"])"
   ]
  },
  {
   "cell_type": "code",
   "execution_count": null,
   "id": "158da8e3",
   "metadata": {},
   "outputs": [],
   "source": [
    "# Number of rules per package\n",
    "popular_packages_rules_groupby = popular_packages_rules_df.groupby('package')['has_rule']\n",
    "print(f\"Total number of rules: {popular_packages_rules_groupby.sum().sum()}\")\n",
    "popular_packages_rules_groupby.sum().describe()"
   ]
  },
  {
   "cell_type": "code",
   "execution_count": null,
   "id": "cbf22e13",
   "metadata": {},
   "outputs": [],
   "source": [
    "# popular packages that have at least one alert\n",
    "popular_packages_has_rules_df = popular_packages_rules_df[popular_packages_rules_df['has_rule'] != 0]"
   ]
  },
  {
   "cell_type": "code",
   "execution_count": null,
   "id": "3e97c65e",
   "metadata": {},
   "outputs": [],
   "source": [
    "# Number of rules per package\n",
    "popular_packages_has_rules_groupby = popular_packages_has_rules_df.groupby('package')['has_rule']\n",
    "print(f\"Total number of rules: {popular_packages_has_rules_groupby.sum().sum()}\")\n",
    "popular_packages_has_rules_groupby.sum().describe()"
   ]
  },
  {
   "cell_type": "code",
   "execution_count": null,
   "id": "dd198574",
   "metadata": {},
   "outputs": [],
   "source": [
    "# Collect the alerts and transform them into datafarame\n",
    "popular_packages_subpatterns = collect_subpatterns(popular_packages_scanning_results)\n",
    "popular_packages_subpatterns_df = pd.DataFrame(popular_packages_subpatterns, columns=[\"package\", \"target\", \"rule\", \"subpattern\"])"
   ]
  },
  {
   "cell_type": "code",
   "execution_count": null,
   "id": "40e7b7a5",
   "metadata": {},
   "outputs": [],
   "source": [
    "# Number of subpatterns per package\n",
    "popular_packages_subpatterns_groupby = popular_packages_subpatterns_df.groupby('package')['subpattern']\n",
    "print(f\"Total number of subpatterns: {popular_packages_subpatterns_groupby.count().sum()}\")\n",
    "popular_packages_subpatterns_groupby.count().describe()"
   ]
  },
  {
   "cell_type": "markdown",
   "id": "5dc4e6b4",
   "metadata": {},
   "source": [
    "### Triggered rules and subpatterns in all setup.py files in popular packages"
   ]
  },
  {
   "cell_type": "code",
   "execution_count": null,
   "id": "2054363a",
   "metadata": {},
   "outputs": [],
   "source": [
    "# Selecting only setup.py files\n",
    "popular_packages_rules_setup_df = popular_packages_rules_df[popular_packages_rules_df['target'].str.contains('setup.py')]"
   ]
  },
  {
   "cell_type": "code",
   "execution_count": null,
   "id": "20c69925",
   "metadata": {},
   "outputs": [],
   "source": [
    "# Number of rules per package\n",
    "popular_packages_rules_setup_groupby = popular_packages_rules_setup_df.groupby('package')['has_rule']\n",
    "print(f\"Total number of rules: {popular_packages_rules_setup_groupby.sum().sum()}\")\n",
    "popular_packages_rules_setup_groupby.sum().describe()"
   ]
  },
  {
   "cell_type": "code",
   "execution_count": null,
   "id": "84c6c58f",
   "metadata": {},
   "outputs": [],
   "source": [
    "# popular packages whose setup.py files that have at least one alert\n",
    "popular_packages_setup_has_rules_df = popular_packages_rules_setup_df[popular_packages_rules_setup_df['has_rule'] != 0]"
   ]
  },
  {
   "cell_type": "code",
   "execution_count": null,
   "id": "9667ae38",
   "metadata": {},
   "outputs": [],
   "source": [
    "# Number of rules per package\n",
    "popular_packages_setup_has_rules_groupby = popular_packages_setup_has_rules_df.groupby('package')['has_rule']\n",
    "print(f\"Total number of rules: {popular_packages_setup_has_rules_groupby.sum().sum()}\")\n",
    "popular_packages_setup_has_rules_groupby.sum().describe()"
   ]
  },
  {
   "cell_type": "code",
   "execution_count": null,
   "id": "8c6048f3",
   "metadata": {},
   "outputs": [],
   "source": [
    "# Ratio of true positives to false postives \n",
    "thresholds = [1, 2, 3, 4, 5]\n",
    "scores = popular_packages_setup_has_rules_groupby.sum().to_list()\n",
    "thesholds_tpr_fpr_ratio = []\n",
    "for t in thresholds:\n",
    "    tp, fp = get_tpr_fpr(scores, t)\n",
    "    print(t, tp, fp)"
   ]
  },
  {
   "cell_type": "markdown",
   "id": "471e19c0",
   "metadata": {},
   "source": [
    "## Analyzing Random packages"
   ]
  },
  {
   "cell_type": "code",
   "execution_count": null,
   "id": "afdc7785",
   "metadata": {},
   "outputs": [],
   "source": [
    "random_packages_path = os.path.abspath(\"../dataset/random-packages/\")"
   ]
  },
  {
   "cell_type": "code",
   "execution_count": null,
   "id": "e6d365b0",
   "metadata": {},
   "outputs": [],
   "source": [
    "random_running_times = computing_runtimes(random_packages_path)\n",
    "random_packages_running_times_df = pd.DataFrame(list(random_running_times.items()), columns=['package', 'running_time'])"
   ]
  },
  {
   "cell_type": "code",
   "execution_count": null,
   "id": "ce265161",
   "metadata": {},
   "outputs": [],
   "source": [
    "random_packages_running_times_df.to_csv(\"../results/running_times/pypi-malware-checks/random-packages.csv\")"
   ]
  },
  {
   "cell_type": "code",
   "execution_count": null,
   "id": "af600f38",
   "metadata": {},
   "outputs": [],
   "source": [
    "random_packages_running_times_df[\"running_time\"].describe()"
   ]
  },
  {
   "cell_type": "code",
   "execution_count": null,
   "id": "b04eaafa",
   "metadata": {},
   "outputs": [],
   "source": [
    "# Uncomment to re-run the scanning, this would take a while\n",
    "random_packages_scanning_results = scanning_releases(random_pypi_packages)"
   ]
  },
  {
   "cell_type": "markdown",
   "id": "f5abd576",
   "metadata": {},
   "source": [
    "### Triggered rules and subpatterns in all Python files in random packages"
   ]
  },
  {
   "cell_type": "code",
   "execution_count": null,
   "id": "2e0ae8e3",
   "metadata": {},
   "outputs": [],
   "source": [
    "# Loading the existing result\n",
    "with open(os.path.abspath(os.path.join(\"..\", \"results\", \"pypi-malware-checks\", \"random_packages.pkl\")), 'rb') as fp:\n",
    "    random_packages_scanning_results = pickle.load(fp)"
   ]
  },
  {
   "cell_type": "code",
   "execution_count": null,
   "id": "10b947d5",
   "metadata": {},
   "outputs": [],
   "source": [
    "# Collect the alerts and transform them into datafarame\n",
    "random_packages_rules = parse_analysis_results(random_packages_scanning_results)\n",
    "random_packages_rules_df = pd.DataFrame(random_packages_rules, columns=[\"package\", \"target\", \"rule\", \"has_rule\"])"
   ]
  },
  {
   "cell_type": "code",
   "execution_count": null,
   "id": "90571347",
   "metadata": {},
   "outputs": [],
   "source": [
    "# Number of rules per package\n",
    "random_packages_rules_groupby = random_packages_rules_df.groupby('package')['has_rule']\n",
    "print(f\"Total number of rules: {random_packages_rules_groupby.sum().sum()}\")\n",
    "random_packages_rules_groupby.sum().describe()"
   ]
  },
  {
   "cell_type": "code",
   "execution_count": null,
   "id": "13a7f604",
   "metadata": {},
   "outputs": [],
   "source": [
    "# packages that have at least one alert\n",
    "random_packages_has_rules_df = random_packages_rules_df[random_packages_rules_df['has_rule'] != 0]"
   ]
  },
  {
   "cell_type": "code",
   "execution_count": null,
   "id": "8c4f8d36",
   "metadata": {},
   "outputs": [],
   "source": [
    "# Number of rules per package\n",
    "random_packages_has_rules_groupby = random_packages_has_rules_df.groupby('package')['has_rule']\n",
    "print(f\"Total number of rules: {random_packages_has_rules_groupby.sum().sum()}\")\n",
    "random_packages_has_rules_groupby.sum().describe()"
   ]
  },
  {
   "cell_type": "code",
   "execution_count": null,
   "id": "db2d72fa",
   "metadata": {},
   "outputs": [],
   "source": [
    "# Collect the alerts and transform them into datafarame\n",
    "random_packages_subpatterns = collect_subpatterns(random_packages_scanning_results)\n",
    "random_packages_subpatterns_df = pd.DataFrame(random_packages_subpatterns, columns=[\"package\", \"target\", \"rule\", \"subpattern\"])"
   ]
  },
  {
   "cell_type": "code",
   "execution_count": null,
   "id": "a1c4acd3",
   "metadata": {},
   "outputs": [],
   "source": [
    "# Number of subpatterns per package\n",
    "random_packages_subpatterns_groupby = random_packages_subpatterns_df.groupby('package')['subpattern']\n",
    "print(f\"Total number of subpatterns: {random_packages_subpatterns_groupby.count().sum()}\")\n",
    "random_packages_subpatterns_groupby.count().describe()"
   ]
  },
  {
   "cell_type": "markdown",
   "id": "70c9a4b6",
   "metadata": {},
   "source": [
    "### Triggered rules and subpatterns in all setup.py files in random packages"
   ]
  },
  {
   "cell_type": "code",
   "execution_count": null,
   "id": "a6defe41",
   "metadata": {},
   "outputs": [],
   "source": [
    "# Selecting only setup.py files\n",
    "random_packages_rules_setup_df = random_packages_rules_df[random_packages_rules_df['target'].str.contains('setup.py')]"
   ]
  },
  {
   "cell_type": "code",
   "execution_count": null,
   "id": "dab96638",
   "metadata": {},
   "outputs": [],
   "source": [
    "# Number of rules per package\n",
    "random_packages_rules_setup_groupby = random_packages_rules_setup_df.groupby('package')['has_rule']\n",
    "print(f\"Total number of rules: {random_packages_rules_setup_groupby.sum().sum()}\")\n",
    "random_packages_rules_setup_groupby.sum().describe()"
   ]
  },
  {
   "cell_type": "code",
   "execution_count": null,
   "id": "e0dcba18",
   "metadata": {},
   "outputs": [],
   "source": [
    "random_packages_setup_has_rules_df = random_packages_rules_setup_df[random_packages_rules_setup_df['has_rule'] != 0]"
   ]
  },
  {
   "cell_type": "code",
   "execution_count": null,
   "id": "92582c30",
   "metadata": {},
   "outputs": [],
   "source": [
    "# Number of rules per package\n",
    "random_packages_rules_setup_has_rules_groupby = random_packages_setup_has_rules_df.groupby('package')['has_rule']\n",
    "print(f\"Total number of rules: {random_packages_rules_setup_has_rules_groupby.sum().sum()}\")\n",
    "random_packages_rules_setup_has_rules_groupby.sum().describe()"
   ]
  },
  {
   "cell_type": "code",
   "execution_count": null,
   "id": "c5c51974",
   "metadata": {},
   "outputs": [],
   "source": [
    "random_packages_subpatterns_setup_df = random_packages_subpatterns_df[random_packages_subpatterns_df['target'].str.contains('setup.py')]"
   ]
  },
  {
   "cell_type": "code",
   "execution_count": null,
   "id": "99cfb191",
   "metadata": {},
   "outputs": [],
   "source": [
    "# Number of subpatterns per package\n",
    "random_packages_subpatterns_setup_groupby = random_packages_subpatterns_setup_df.groupby('package')['subpattern']\n",
    "print(f\"Total number of subpatterns: {random_packages_subpatterns_setup_groupby.count().sum()}\")\n",
    "random_packages_subpatterns_setup_groupby.count().describe()"
   ]
  },
  {
   "cell_type": "code",
   "execution_count": null,
   "id": "fff33f02",
   "metadata": {},
   "outputs": [],
   "source": [
    "# Saving the raw result for faster analaysis next time\n",
    "with open(os.path.abspath(\"../results/pypi-malware-checks/random_packages_scanning_results_pypi_malwarechecks.pkl\"), 'wb') as fp:\n",
    "    pickle.dump(random_packages_scanning_results, fp, protocol=pickle.HIGHEST_PROTOCOL)"
   ]
  }
 ],
 "metadata": {
  "kernelspec": {
   "display_name": "Python 3 (ipykernel)",
   "language": "python",
   "name": "python3"
  },
  "language_info": {
   "codemirror_mode": {
    "name": "ipython",
    "version": 3
   },
   "file_extension": ".py",
   "mimetype": "text/x-python",
   "name": "python",
   "nbconvert_exporter": "python",
   "pygments_lexer": "ipython3",
   "version": "3.8.10"
  }
 },
 "nbformat": 4,
 "nbformat_minor": 5
}
