{
 "cells": [
  {
   "cell_type": "code",
   "execution_count": null,
   "id": "c346969a",
   "metadata": {},
   "outputs": [],
   "source": [
    "import json\n",
    "import glob\n",
    "import os\n",
    "import pandas as pd\n",
    "from pathlib import Path\n",
    "import pickle\n",
    "import shutil\n",
    "import subprocess\n",
    "from tempfile import TemporaryDirectory\n",
    "import time\n",
    "from tqdm import tqdm"
   ]
  },
  {
   "cell_type": "code",
   "execution_count": null,
   "id": "6e7e85dc",
   "metadata": {},
   "outputs": [],
   "source": [
    "# Path to the oss detect backdoor binary\n",
    "oss_detect_backdoor_path = os.path.abspath(\"../scanners/OSSGadget/src/oss-detect-backdoor/bin/Debug/net6.0/oss-detect-backdoor\")"
   ]
  },
  {
   "cell_type": "code",
   "execution_count": null,
   "id": "dbd238d6",
   "metadata": {},
   "outputs": [],
   "source": [
    "# Scanning packages, save the results to disk, and record running times\n",
    "def scanning_packages(package_releases_path, results_dir):\n",
    "    running_times = {}\n",
    "    package_dirs = [f.path for f in os.scandir(package_releases_path) if f.is_dir()]\n",
    "    for package_dir in tqdm(package_dirs):\n",
    "        package_name = f\"{package_dir.split('/')[6]}\"\n",
    "        print(package_name)\n",
    "        # As there a big packages containing non python files, we select only python files to analyze\n",
    "        with TemporaryDirectory() as temp_dir:\n",
    "            for dirpath,_,filenames in os.walk(package_dir):\n",
    "                for f in filenames:\n",
    "                    file_path = os.path.abspath(os.path.join(dirpath, f))\n",
    "                    if Path(file_path).suffix == '.py':\n",
    "                        shutil.copy2(file_path, temp_dir)\n",
    "            start_time = time.time()\n",
    "            subprocess.run([oss_detect_backdoor_path, temp_dir, \"-f\", \"sarifv2\", \"-o\", f\"{os.path.join(results_dir, package_name)}.sarif\"])\n",
    "            running_times[package_name] = time.time() - start_time\n",
    "    return running_times"
   ]
  },
  {
   "cell_type": "code",
   "execution_count": null,
   "id": "947495cc",
   "metadata": {},
   "outputs": [],
   "source": [
    "def collect_alerts(results_dir):\n",
    "    alerts = []\n",
    "    for root, dirs, files in os.walk(results_dir):\n",
    "        for file in files:\n",
    "            file_path = os.path.join(root, file)\n",
    "            if file_path.endswith(\".sarif\"):\n",
    "                package_name = file_path.split(\"/\")[-1].replace(\".sarif\", \"\")\n",
    "                print(package_name)\n",
    "                alert_data = json.load(open(file_path))\n",
    "                alert_data[\"package_name\"] = package_name\n",
    "                alerts.append(alert_data)\n",
    "    return alerts"
   ]
  },
  {
   "cell_type": "code",
   "execution_count": null,
   "id": "12d01c17",
   "metadata": {},
   "outputs": [],
   "source": [
    "def process_alerts(alerts):\n",
    "    processed_alerts = []\n",
    "    for data in alerts:\n",
    "        results = data[\"runs\"][0][\"results\"]\n",
    "        package_name = data[\"package_name\"]\n",
    "        if len(results) > 0:\n",
    "            for result in results:\n",
    "                alert = result[\"message\"][\"text\"]\n",
    "                for loc in result[\"locations\"]:\n",
    "                    target = loc['physicalLocation'][\"address\"][\"fullyQualifiedName\"]\n",
    "                    if target.endswith(\".py\"):\n",
    "                        processed_alerts.append([package_name, target, alert])\n",
    "        else:\n",
    "            print(f\"{package_name} does not have alerts\")\n",
    "    return processed_alerts"
   ]
  },
  {
   "cell_type": "code",
   "execution_count": null,
   "id": "2db72791",
   "metadata": {},
   "outputs": [],
   "source": [
    "def get_tp_fp(num_alerts_list, threshold):\n",
    "    count = 0\n",
    "    for i in num_alerts_list:\n",
    "        if i > threshold:\n",
    "            count = count + 1\n",
    "    tp = count\n",
    "    fp = len(num_alerts_list) - tp\n",
    "    return (tp, fp)"
   ]
  },
  {
   "cell_type": "markdown",
   "id": "9b50058f",
   "metadata": {},
   "source": [
    "## Malicious packages"
   ]
  },
  {
   "cell_type": "code",
   "execution_count": null,
   "id": "ee4eed40",
   "metadata": {},
   "outputs": [],
   "source": [
    "# Paths to malicious packages and the scanning results\n",
    "malicious_packages_path = os.path.abspath(\"../dataset/malicious-packages/\")\n",
    "malicious_results_dir = os.path.abspath(\"../results/oss-detect-backdoor/malicious-packages/\")"
   ]
  },
  {
   "cell_type": "code",
   "execution_count": null,
   "id": "3a5c5ad7",
   "metadata": {},
   "outputs": [],
   "source": [
    "# Scanning packages, and record runtimes\n",
    "malicious_packages_running_times = scanning_packages(malicious_packages_path, malicious_results_dir)"
   ]
  },
  {
   "cell_type": "code",
   "execution_count": null,
   "id": "1504336a",
   "metadata": {},
   "outputs": [],
   "source": [
    "# Runtime statistics\n",
    "malicious_packages_running_times_df = pd.DataFrame(list(malicious_packages_running_times.items()), columns=['package', 'running_time'])\n",
    "malicious_packages_running_times_df[\"running_time\"].describe()"
   ]
  },
  {
   "cell_type": "code",
   "execution_count": null,
   "id": "bb93f737",
   "metadata": {},
   "outputs": [],
   "source": [
    "# Saving runtime results\n",
    "malicious_packages_running_times_df.to_csv(\"../results/running_times/oss-detect-backdoor/malicious-packages.csv\")"
   ]
  },
  {
   "cell_type": "code",
   "execution_count": null,
   "id": "116b4b3d",
   "metadata": {},
   "outputs": [],
   "source": [
    "# Analyzing maicious packaes results\n",
    "malicious_results_path = os.path.abspath(\"../results/oss-detect-backdoor/malicious-packages/\")\n",
    "malicious_results = collect_alerts(malicious_results_path)"
   ]
  },
  {
   "cell_type": "code",
   "execution_count": null,
   "id": "d59d93b8",
   "metadata": {},
   "outputs": [],
   "source": [
    "# Processing malicious alerts\n",
    "malicous_packages_scanning_results = process_alerts(malicious_results)"
   ]
  },
  {
   "cell_type": "code",
   "execution_count": null,
   "id": "1ae49342",
   "metadata": {},
   "outputs": [],
   "source": []
  },
  {
   "cell_type": "markdown",
   "id": "703168b5",
   "metadata": {},
   "source": [
    "### Triggered rules in all Python files in malicious packages"
   ]
  },
  {
   "cell_type": "code",
   "execution_count": null,
   "id": "49315e3e",
   "metadata": {},
   "outputs": [],
   "source": [
    "# Loading the existing result in case we do not want to rescan the packages\n",
    "with open(os.path.abspath(os.path.join(\"..\", \"results\", \"oss-detect-backdoor\", \"malicious-packages.pkl\")), 'rb') as fp:\n",
    "    malicous_packages_scanning_results = pickle.load(fp)"
   ]
  },
  {
   "cell_type": "code",
   "execution_count": null,
   "id": "1f54b046",
   "metadata": {},
   "outputs": [],
   "source": [
    "malicious_results_df = pd.DataFrame(malicous_packages_scanning_results, columns=[\"package\", \"target\", \"rule\"])"
   ]
  },
  {
   "cell_type": "code",
   "execution_count": null,
   "id": "1226cf6b",
   "metadata": {},
   "outputs": [],
   "source": [
    "# Number of rules per package\n",
    "malicious_packages_rules_groupby = malicious_results_df.groupby('package')['rule']\n",
    "print(f\"Total number of rules: {malicious_packages_rules_groupby.count().sum()}\")\n",
    "malicious_packages_rules_groupby.count().describe()"
   ]
  },
  {
   "cell_type": "markdown",
   "id": "b9560169",
   "metadata": {},
   "source": [
    "### Triggered rules in all setup.py files in malicious packages"
   ]
  },
  {
   "cell_type": "code",
   "execution_count": null,
   "id": "099cfa27",
   "metadata": {},
   "outputs": [],
   "source": [
    "malicious_packages_rules_setup_df = malicious_results_df[malicious_results_df['target'].str.contains('setup.py')]"
   ]
  },
  {
   "cell_type": "code",
   "execution_count": null,
   "id": "ca00fd8c",
   "metadata": {},
   "outputs": [],
   "source": [
    "# Number of rules per package\n",
    "malicious_packages_rules_setup_groupby = malicious_packages_rules_setup_df.groupby('package')['rule']\n",
    "print(f\"Total number of rules: {malicious_packages_rules_setup_groupby.count().sum()}\")\n",
    "malicious_packages_rules_setup_groupby.count().describe()"
   ]
  },
  {
   "cell_type": "code",
   "execution_count": null,
   "id": "f15ad6f1",
   "metadata": {},
   "outputs": [],
   "source": [
    "# Saving the existing result\n",
    "with open(os.path.abspath(\"../results/malicious_packages_scanning_results_oss_detect_backdoor.pkl\"), 'wb') as fp:\n",
    "    pickle.dump(malicious_results, fp, protocol=pickle.HIGHEST_PROTOCOL)"
   ]
  },
  {
   "cell_type": "markdown",
   "id": "4b22b19c",
   "metadata": {},
   "source": [
    "## Popular packages"
   ]
  },
  {
   "cell_type": "code",
   "execution_count": null,
   "id": "89ccceaf",
   "metadata": {},
   "outputs": [],
   "source": [
    "# Paths to popular packages and results dir\n",
    "popular_packages_path = os.path.abspath(\"../dataset/popular-packages/\")\n",
    "popular_results_dir = os.path.abspath(\"../results/oss-detect-backdoor/popular-packages/\")"
   ]
  },
  {
   "cell_type": "code",
   "execution_count": null,
   "id": "f6c69e8c",
   "metadata": {},
   "outputs": [],
   "source": [
    "# Scanning packages, and record runtimes\n",
    "popular_packages_running_times = scanning_packages(popular_packages_path, popular_results_dir)"
   ]
  },
  {
   "cell_type": "code",
   "execution_count": null,
   "id": "3cff85af",
   "metadata": {},
   "outputs": [],
   "source": [
    "# Measuring runtimes of scanning popular packages\n",
    "popular_packages_running_times_df = pd.DataFrame(list(popular_packages_running_times.items()), columns=['package', 'running_time'])\n",
    "popular_packages_running_times_df[\"running_time\"].describe()"
   ]
  },
  {
   "cell_type": "code",
   "execution_count": null,
   "id": "1ea010e8",
   "metadata": {},
   "outputs": [],
   "source": [
    "popular_packages_running_times_df.to_csv(\"../results/running_times/oss-detect-backdoor/popular-packages.csv\")"
   ]
  },
  {
   "cell_type": "code",
   "execution_count": null,
   "id": "ae8a226e",
   "metadata": {},
   "outputs": [],
   "source": [
    "# Analyzing the results\n",
    "popular_results_path = os.path.abspath(\"../results/oss-detect-backdoor/popular-packages/\")\n",
    "popular_results = collect_alerts(popular_results_path)"
   ]
  },
  {
   "cell_type": "code",
   "execution_count": null,
   "id": "fa4f8122",
   "metadata": {},
   "outputs": [],
   "source": [
    "# Processing malicious alerts\n",
    "popular_packages_scanning_results = process_alerts(popular_results)"
   ]
  },
  {
   "cell_type": "markdown",
   "id": "38d04f60",
   "metadata": {},
   "source": [
    "### Triggered rules in all Python files in popular packages"
   ]
  },
  {
   "cell_type": "code",
   "execution_count": null,
   "id": "bc5ce6b0",
   "metadata": {},
   "outputs": [],
   "source": [
    "# Loading the existing result in case we do not want to rescan the packages\n",
    "with open(os.path.abspath(os.path.join(\"..\", \"results\", \"oss-detect-backdoor\", \"popular-packages.pkl\")), 'rb') as fp:\n",
    "    popular_packages_scanning_results = pickle.load(fp)"
   ]
  },
  {
   "cell_type": "code",
   "execution_count": null,
   "id": "8061c14e",
   "metadata": {},
   "outputs": [],
   "source": [
    "# Transform the results to DataFrame for analysis\n",
    "popular_results_df = pd.DataFrame(popular_packages_scanning_results, columns=[\"package\", \"target\", \"rule\"])"
   ]
  },
  {
   "cell_type": "code",
   "execution_count": null,
   "id": "6ddca03a",
   "metadata": {},
   "outputs": [],
   "source": [
    "# Number of rules per package\n",
    "popular_packages_rules_groupby = popular_results_df.groupby('package')['rule']\n",
    "print(f\"Total number of rules: {popular_packages_rules_groupby.count().sum()}\")\n",
    "popular_packages_rules_groupby.count().describe()"
   ]
  },
  {
   "cell_type": "code",
   "execution_count": null,
   "id": "9e7fca73",
   "metadata": {},
   "outputs": [],
   "source": [
    "# Ratio of true positives to false postives \n",
    "thresholds = [1, 2, 3, 4, 5]\n",
    "scores = popular_packages_rules_groupby.count().to_list()\n",
    "thesholds_tpr_fpr_ratio = []\n",
    "for t in thresholds:\n",
    "    tpr, fpr = get_tpr_fpr(scores, t)\n",
    "    print(t, round(tpr/fpr, 2))"
   ]
  },
  {
   "cell_type": "markdown",
   "id": "827f5e0b",
   "metadata": {},
   "source": [
    "### Triggered rules in all setup.py files in popular packages"
   ]
  },
  {
   "cell_type": "code",
   "execution_count": null,
   "id": "a0267f86",
   "metadata": {},
   "outputs": [],
   "source": [
    "# Select only setup.py files of the packages\n",
    "popular_packages_rules_setup_df = popular_results_df[popular_results_df['target'].str.contains('setup.py')]"
   ]
  },
  {
   "cell_type": "code",
   "execution_count": null,
   "id": "8af03e86",
   "metadata": {},
   "outputs": [],
   "source": [
    "# Number of rules per package\n",
    "popular_packages_rules_setup_groupby = popular_packages_rules_setup_df.groupby('package')['rule']\n",
    "print(f\"Total number of rules: {popular_packages_rules_setup_groupby.count().sum()}\")\n",
    "popular_packages_rules_setup_groupby.count().describe()"
   ]
  },
  {
   "cell_type": "code",
   "execution_count": null,
   "id": "ae21cd89",
   "metadata": {},
   "outputs": [],
   "source": [
    "# Ratio of true positives to false postives \n",
    "thresholds = [1, 2, 3, 4, 5]\n",
    "scores = popular_packages_rules_setup_groupby.count().to_list()\n",
    "thesholds_tpr_fpr_ratio = []\n",
    "for t in thresholds:\n",
    "    tp, fp = get_tp_fp(scores, t)\n",
    "    print(t, tp, fp)"
   ]
  },
  {
   "cell_type": "code",
   "execution_count": null,
   "id": "1d59130d",
   "metadata": {},
   "outputs": [],
   "source": [
    "# Saving the existing result\n",
    "with open(os.path.abspath(\"../results/oss-detect-backdoor/popular-packages.pkl\"), 'wb') as fp:\n",
    "    pickle.dump(popular_results, fp, protocol=pickle.HIGHEST_PROTOCOL)"
   ]
  },
  {
   "cell_type": "markdown",
   "id": "a3fb666d",
   "metadata": {},
   "source": [
    "## Random packages"
   ]
  },
  {
   "cell_type": "code",
   "execution_count": null,
   "id": "ed6d6d52",
   "metadata": {},
   "outputs": [],
   "source": [
    "# Loading the existing result in case we do not want to rescan the packages\n",
    "with open(os.path.abspath(os.path.join(\"..\", \"results\", \"oss-detect-backdoor\", \"random-packages.pkl\")), 'rb') as fp:\n",
    "    popular_packages_scanning_results = pickle.load(fp)"
   ]
  },
  {
   "cell_type": "code",
   "execution_count": null,
   "id": "303e20ca",
   "metadata": {},
   "outputs": [],
   "source": [
    "# Paths to random packages and results dir\n",
    "random_packages_path = os.path.abspath(\"../dataset/random-packages/\")\n",
    "random_results_dir = os.path.abspath(\"../results/oss-detect-backdoor/random-packages//\")"
   ]
  },
  {
   "cell_type": "code",
   "execution_count": null,
   "id": "d437ac85",
   "metadata": {},
   "outputs": [],
   "source": [
    "# Scanning packages, and record runtimes\n",
    "random_packages_running_times = scanning_packages(random_packages_path, random_results_dir)"
   ]
  },
  {
   "cell_type": "code",
   "execution_count": null,
   "id": "e975e9c8",
   "metadata": {},
   "outputs": [],
   "source": [
    "random_packages_running_times_df = pd.DataFrame(list(random_packages_running_times.items()), columns=['package', 'running_time'])\n",
    "random_packages_running_times_df[\"running_time\"].describe()"
   ]
  },
  {
   "cell_type": "code",
   "execution_count": null,
   "id": "50c1801b",
   "metadata": {},
   "outputs": [],
   "source": [
    "random_packages_running_times_df.to_csv(\"../results/running_times/oss-detect-backdoor/random-packages.csv\")"
   ]
  },
  {
   "cell_type": "code",
   "execution_count": null,
   "id": "5fcc9c6c",
   "metadata": {},
   "outputs": [],
   "source": [
    "random_results_path = os.path.abspath(\"../results/oss-detect-backdoor/random-packages/\")\n",
    "random_results = collect_alerts(random_results_path)"
   ]
  },
  {
   "cell_type": "code",
   "execution_count": null,
   "id": "fb1026bd",
   "metadata": {},
   "outputs": [],
   "source": [
    "# Processing malicious alerts\n",
    "random_packages_scanning_results = process_alerts(random_results)"
   ]
  },
  {
   "cell_type": "markdown",
   "id": "f642b430",
   "metadata": {},
   "source": [
    "### Triggered rules in all Python files in random packages"
   ]
  },
  {
   "cell_type": "code",
   "execution_count": null,
   "id": "e3e51589",
   "metadata": {},
   "outputs": [],
   "source": [
    "# Transform the results to DataFrame for analyssi\n",
    "random_results_df = pd.DataFrame(random_packages_scanning_results, columns=[\"package\", \"target\", \"rule\"])"
   ]
  },
  {
   "cell_type": "code",
   "execution_count": null,
   "id": "b84785cd",
   "metadata": {},
   "outputs": [],
   "source": [
    "# Number of rules per package\n",
    "random_packages_rules_groupby = random_results_df.groupby('package')['rule']\n",
    "print(f\"Total number of rules: {random_packages_rules_groupby.count().sum()}\")\n",
    "random_packages_rules_groupby.count().describe()"
   ]
  },
  {
   "cell_type": "code",
   "execution_count": null,
   "id": "483b08f2",
   "metadata": {},
   "outputs": [],
   "source": [
    "# Ratio of true positives to false postives \n",
    "thresholds = [1, 5, 10, 15, 20, 25, 30]\n",
    "scores = random_packages_rules_groupby.count().to_list()\n",
    "thesholds_tpr_fpr_ratio = []\n",
    "for t in thresholds:\n",
    "    tpr, fpr = get_tpr_fpr(scores, t)\n",
    "    print(t, round(tpr/fpr, 2))"
   ]
  },
  {
   "cell_type": "markdown",
   "id": "6eeb2cf7",
   "metadata": {},
   "source": [
    "### Triggered rules in all setup.py files in random packages"
   ]
  },
  {
   "cell_type": "code",
   "execution_count": null,
   "id": "b54d39ef",
   "metadata": {},
   "outputs": [],
   "source": [
    "# Select only setup.py files\n",
    "random_packages_rules_setup_df = random_results_df[random_results_df['target'].str.contains('setup.py')]"
   ]
  },
  {
   "cell_type": "code",
   "execution_count": null,
   "id": "a66d45ce",
   "metadata": {},
   "outputs": [],
   "source": [
    "# Number of rules per package\n",
    "random_packages_rules_setup_groupby = random_packages_rules_setup_df.groupby('package')['rule']\n",
    "print(f\"Total number of rules: {random_packages_rules_setup_groupby.count().sum()}\")\n",
    "random_packages_rules_setup_groupby.count().describe()"
   ]
  },
  {
   "cell_type": "code",
   "execution_count": null,
   "id": "8ec42bb8",
   "metadata": {},
   "outputs": [],
   "source": [
    "# Ratio of true positives to false postives \n",
    "thresholds = [1, 2, 3, 4, 5]\n",
    "scores = random_packages_rules_setup_groupby.count().to_list()\n",
    "thesholds_tpr_fpr_ratio = []\n",
    "for t in thresholds:\n",
    "    tp, fp = get_tp_fp(scores, t)\n",
    "    print(t, tp, fp)"
   ]
  },
  {
   "cell_type": "code",
   "execution_count": null,
   "id": "2f9af32e",
   "metadata": {},
   "outputs": [],
   "source": [
    "# Saving the existing result\n",
    "with open(os.path.abspath(\"../results/oss-detect-backdoor/random-packages.pkl\"), 'wb') as fp:\n",
    "    pickle.dump(random_results, fp, protocol=pickle.HIGHEST_PROTOCOL)"
   ]
  }
 ],
 "metadata": {
  "kernelspec": {
   "display_name": "Python 3 (ipykernel)",
   "language": "python",
   "name": "python3"
  },
  "language_info": {
   "codemirror_mode": {
    "name": "ipython",
    "version": 3
   },
   "file_extension": ".py",
   "mimetype": "text/x-python",
   "name": "python",
   "nbconvert_exporter": "python",
   "pygments_lexer": "ipython3",
   "version": "3.8.10"
  }
 },
 "nbformat": 4,
 "nbformat_minor": 5
}
